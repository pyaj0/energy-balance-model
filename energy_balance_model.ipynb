{
 "cells": [
  {
   "cell_type": "markdown",
   "metadata": {
    "slideshow": {
     "slide_type": "skip"
    }
   },
   "source": [
    "# Learning Goals\n",
    "\n",
    "- implement a simple model\n",
    "- implement an environmental model\n",
    "- learn on global balance energy\n",
    "- design jupyter notebook adapted for presentation"
   ]
  },
  {
   "cell_type": "markdown",
   "metadata": {
    "slideshow": {
     "slide_type": "skip"
    }
   },
   "source": [
    "# Jupyter Notebook Slides\n",
    "\n",
    "### First Method\n",
    "\n",
    "Use the following command in terminal to convert your notebook to html slides\n",
    "\n",
    "`jupyter nbconvert energy_balance_model.ipynb --to slides --post serve`\n",
    "\n",
    "### Second Method\n",
    "\n",
    "\n",
    "Install rise package (more interactive) in conda with the following command\n",
    "\n",
    "`conda install -c conda-forge rise`\n",
    "\n",
    "Or use pip tool \n",
    "\n",
    "`pip install RISE`\n",
    "\n",
    "After installation, you'll see a new icon on the right.\n",
    "\n",
    "This icon would enable you to excecute your presentations\n",
    "\n",
    "<img src=\"./images/rise_icon.png\" width=700 align=\"left\" />\n"
   ]
  },
  {
   "cell_type": "markdown",
   "metadata": {
    "slideshow": {
     "slide_type": "slide"
    }
   },
   "source": [
    "# Energy balance model\n",
    "\n",
    "By Peniel Adounkpe\n",
    "\n",
    "Course: Computer modeling of complex system application to environmental management"
   ]
  },
  {
   "cell_type": "markdown",
   "metadata": {
    "slideshow": {
     "slide_type": "slide"
    }
   },
   "source": [
    "## Contents\n",
    "\n",
    "1. [Global Energy Budget](#section1)\n",
    "2. [Objectives](#section2)\n",
    "3. [Assumptions](#section3)\n",
    "4. [Mathematical Equations](#section4)\n",
    "5. [Representing time derivatives](#section5)\n",
    "6. [Numerical solution](#section6)\n",
    "7. [Visualization](#section7)"
   ]
  },
  {
   "cell_type": "markdown",
   "metadata": {
    "slideshow": {
     "slide_type": "slide"
    }
   },
   "source": [
    "<a id='section1'></a>\n",
    "\n",
    "## 1. Global Energy Budget\n",
    "____________"
   ]
  },
  {
   "cell_type": "markdown",
   "metadata": {
    "slideshow": {
     "slide_type": "slide"
    }
   },
   "source": [
    "![Observed global energy flows from Trenberth and Fasullo (2012)](./images/GlobalEnergyBudget.png)\n",
    "**Figure 1: Global energy flows** | Trenbeth and Fasullo (2012)"
   ]
  },
  {
   "cell_type": "markdown",
   "metadata": {
    "slideshow": {
     "slide_type": "slide"
    }
   },
   "source": [
    "<a id='section2'></a>\n",
    "\n",
    "## 2. Objectives\n",
    "____________"
   ]
  },
  {
   "cell_type": "markdown",
   "metadata": {
    "slideshow": {
     "slide_type": "slide"
    }
   },
   "source": [
    "By how much would the temperature change in response to other changes in Earth system?\n",
    "- Changes in greenhouse gases\n",
    "- Changes in cloudiness"
   ]
  },
  {
   "cell_type": "markdown",
   "metadata": {
    "slideshow": {
     "slide_type": "slide"
    }
   },
   "source": [
    "<a id='section3'></a>\n",
    "\n",
    "## 3. Assumptions\n",
    "____________"
   ]
  },
  {
   "cell_type": "markdown",
   "metadata": {
    "slideshow": {
     "slide_type": "slide"
    }
   },
   "source": [
    "### Important variables\n",
    "\n",
    "- $\\tau$ is the **transmissivity** of the atmosphere, represents the greenhouse effect of Earth's atmosphere.\n",
    "- $\\alpha$ is the **planetary albedo**, the fraction of area-averaged incoming solar radiation that is reflected."
   ]
  },
  {
   "cell_type": "markdown",
   "metadata": {
    "slideshow": {
     "slide_type": "slide"
    }
   },
   "source": [
    "### Climate change scenario \n",
    "\n",
    "Suppose that, due to global warming (changes in atmospheric composition and subsequent changes in cloudiness):\n",
    "\n",
    "- The longwave transmissitivity  $\\tau$ decreases from 0.61 to 0.57\n",
    "- The planetary albedo $\\alpha$ increases from 0.29 to 0.32\n",
    "- From $\\tau$ and $\\alpha$ we assume that the equilibrium temperature is 288 K"
   ]
  },
  {
   "cell_type": "code",
   "execution_count": 2,
   "metadata": {
    "slideshow": {
     "slide_type": "fragment"
    }
   },
   "outputs": [],
   "source": [
    "tau = 0.57\n",
    "alpha = 0.32"
   ]
  },
  {
   "cell_type": "markdown",
   "metadata": {
    "slideshow": {
     "slide_type": "slide"
    }
   },
   "source": [
    "<a id='section4'></a>\n",
    "\n",
    "## 4. Mathematical Equations\n",
    "____________"
   ]
  },
  {
   "cell_type": "markdown",
   "metadata": {
    "slideshow": {
     "slide_type": "slide"
    }
   },
   "source": [
    "### Outgoing Longwave Radiation OLR\n",
    "\n",
    "$$ \\text{OLR} = \\tau \\sigma T_s^4 $$\n",
    "\n",
    "where:\n",
    "\n",
    "$\\tau$ is the **transmissivity** of the atmosphere, a number less than 1 that represents the greenhouse effect of Earth's atmosphere.\n",
    "\n",
    "$\\sigma = 5.67E-8$ is the S-B constant \n",
    "\n",
    "$Ts$ is the global average surface temperature"
   ]
  },
  {
   "cell_type": "code",
   "execution_count": 3,
   "metadata": {
    "slideshow": {
     "slide_type": "fragment"
    }
   },
   "outputs": [],
   "source": [
    "sigma = 5.67E-8"
   ]
  },
  {
   "cell_type": "markdown",
   "metadata": {
    "slideshow": {
     "slide_type": "slide"
    }
   },
   "source": [
    "### Absorbed Shortwave Radiation ASR\n",
    "\n",
    "$$ \\text{ASR} = Q - Freflected $$ \n",
    "\n",
    "where:\n",
    "\n",
    "$Q$ = 341.3 W m$^{-2}$ is the area-averaged incoming solar radiation or **insolation** \n",
    "\n",
    "$F_{reflected}$ is some of the incoming radiation that is not totaly absorbed (simply reflected back to space)"
   ]
  },
  {
   "cell_type": "markdown",
   "metadata": {
    "slideshow": {
     "slide_type": "slide"
    }
   },
   "source": [
    "\n",
    "$$ \\text{ASR} = Q - Freflected $$ \n",
    "\n",
    "$$ \\text{$F_{reflected}$} =  \\alpha * Q $$\n",
    "\n",
    "where:\n",
    "\n",
    "$\\alpha$ is the **planetary albedo** (the fraction of $Q$ that is reflected).\n",
    "\n",
    "$$ \\text{ASR} = (1-\\alpha) Q $$"
   ]
  },
  {
   "cell_type": "code",
   "execution_count": 4,
   "metadata": {
    "slideshow": {
     "slide_type": "fragment"
    }
   },
   "outputs": [],
   "source": [
    "Q = 341.3"
   ]
  },
  {
   "cell_type": "markdown",
   "metadata": {
    "slideshow": {
     "slide_type": "slide"
    }
   },
   "source": [
    "### Energy\n",
    "\n",
    "$$ E = C T_s $$\n",
    "\n",
    "where:\n",
    "\n",
    "$C$ = 4E8 J m$^{-2} $K$^{-1}$ is a constant – the **effective heat capacity** of the atmosphere- ocean column\n",
    "\n",
    "$T_s$ is the **global average surface temperature**"
   ]
  },
  {
   "cell_type": "code",
   "execution_count": 5,
   "metadata": {
    "slideshow": {
     "slide_type": "fragment"
    }
   },
   "outputs": [],
   "source": [
    "C = 4E8"
   ]
  },
  {
   "cell_type": "markdown",
   "metadata": {
    "slideshow": {
     "slide_type": "slide"
    }
   },
   "source": [
    "### Energy balance equation\n",
    "\n",
    "We will write the **total energy budget** of the Earth system as :\n",
    "\n",
    "$$ \\frac{dE}{dt} = ASR - OLR $$\n",
    "\n",
    "**This equation is the starting point for EVERY CLIMATE MODEL.**\n",
    "\n",
    "$$ C \\frac{dT_s}{dt} = \\text{ASR} - \\text{OLR} $$"
   ]
  },
  {
   "cell_type": "markdown",
   "metadata": {
    "slideshow": {
     "slide_type": "slide"
    }
   },
   "source": [
    "<a id='section5'></a>\n",
    "\n",
    "## 5. Representing time derivatives\n",
    "____________"
   ]
  },
  {
   "cell_type": "markdown",
   "metadata": {
    "slideshow": {
     "slide_type": "slide"
    }
   },
   "source": [
    "Recall that the derivative is the **instantaneous rate of change**. It is defined as \n",
    "\n",
    "$$ \\frac{dT}{dt} = \\lim_{\\Delta t\\rightarrow 0}⁡ \\frac{\\Delta T}{\\Delta t}$$\n",
    "\n",
    "- **On the computer there is no such thing as an instantaneous change.** \n",
    "- We are always dealing with *discrete quantities*.\n",
    "- So we approximate the derivative with $\\Delta T/ \\Delta t$. \n",
    "- So long as we take the time interval $\\Delta t$ \"small enough\", the approximation is valid and useful."
   ]
  },
  {
   "cell_type": "markdown",
   "metadata": {
    "slideshow": {
     "slide_type": "slide"
    }
   },
   "source": [
    "$$ C \\frac{dT_s}{dt} = \\text{ASR} - \\text{OLR} $$\n",
    "\n",
    "$$ C  \\frac{\\Delta T}{\\Delta t} \\approx \\text{ASR} - \\text{OLR}$$\n",
    "\n",
    "where $\\Delta T$ is the **change in temperature predicted by our model** over a short time interval $\\Delta t$.\n",
    "\n",
    "\n",
    "$$ \\Delta T = T_2-T_1 $$\n",
    "$$ \\Delta t = t_2-t_1 $$"
   ]
  },
  {
   "cell_type": "markdown",
   "metadata": {
    "slideshow": {
     "slide_type": "slide"
    }
   },
   "source": [
    "\n",
    "$$ C  \\frac{T_2-T_1}{\\Delta t} = \\text{ASR} - \\text{OLR} $$\n",
    "\n",
    "Which we can rearrange to **solve for the future temperature**:\n",
    "\n",
    "$$ T_2 = T_1 + \\frac{\\Delta t}{C} \\left( \\text{ASR} - \\text{OLR}(T_1) \\right)  $$"
   ]
  },
  {
   "cell_type": "markdown",
   "metadata": {
    "slideshow": {
     "slide_type": "slide"
    }
   },
   "source": [
    "<a id='section6'></a>\n",
    "\n",
    "## 6. Numerical solution\n",
    "____________"
   ]
  },
  {
   "cell_type": "code",
   "execution_count": 6,
   "metadata": {
    "slideshow": {
     "slide_type": "fragment"
    }
   },
   "outputs": [],
   "source": [
    "#import following fundamental packages of python (numpy and matplotlib)\n",
    "import numpy as np\n",
    "import matplotlib.pyplot as plt\n",
    "\n",
    "%matplotlib inline "
   ]
  },
  {
   "cell_type": "markdown",
   "metadata": {
    "slideshow": {
     "slide_type": "subslide"
    }
   },
   "source": [
    "The quantity $\\Delta t$ is called a **timestep**. It is the smallest time interval represented in our model.\n",
    "\n",
    "Here we're going to use a timestep of 1 year:"
   ]
  },
  {
   "cell_type": "code",
   "execution_count": 7,
   "metadata": {
    "slideshow": {
     "slide_type": "slide"
    }
   },
   "outputs": [],
   "source": [
    "dt = 60. * 60. * 24. * 365.0   # one year expressed in seconds"
   ]
  },
  {
   "cell_type": "code",
   "execution_count": 8,
   "metadata": {
    "slideshow": {
     "slide_type": "fragment"
    }
   },
   "outputs": [],
   "source": [
    "#define fonctions\n",
    "\n",
    "#Outgoing Longwave Radiation OLR (T1, tau=0.57)\n",
    "T1 = 288.0\n",
    "def olr(T1, tau):\n",
    "    return tau * sigma * (T1**4)\n",
    "\n",
    "#Absorbed Shortwave Radiation ASR (alpha=0.32)\n",
    "def asr(alpha):\n",
    "    return (1 - alpha) * Q"
   ]
  },
  {
   "cell_type": "markdown",
   "metadata": {
    "slideshow": {
     "slide_type": "fragment"
    }
   },
   "source": [
    "Time to define a function to make things easier and more reliable:"
   ]
  },
  {
   "cell_type": "code",
   "execution_count": 9,
   "metadata": {
    "slideshow": {
     "slide_type": "fragment"
    }
   },
   "outputs": [],
   "source": [
    "def step_forward(T):\n",
    "    return T + dt / C * ( asr(alpha=0.32) - olr(T, tau=0.57) )"
   ]
  },
  {
   "cell_type": "markdown",
   "metadata": {
    "slideshow": {
     "slide_type": "slide"
    }
   },
   "source": [
    "<a id='section7'></a>\n",
    "\n",
    "## 7. Visualization\n",
    "____________\n"
   ]
  },
  {
   "cell_type": "code",
   "execution_count": 10,
   "metadata": {
    "slideshow": {
     "slide_type": "slide"
    }
   },
   "outputs": [
    {
     "name": "stdout",
     "output_type": "stream",
     "text": [
      "[288.         288.76780266 289.34792102 289.78523685 290.11433323\n",
      " 290.36166675 290.54736768 290.68669049 290.79115953 290.86946109\n",
      " 290.92813114 290.97208122 291.00499865 291.02964965 291.0481083\n",
      " 291.06192909 291.07227674 291.08002371 291.08582346 291.09016532\n",
      " 291.09341571 291.09584897 291.09767051 291.0990341  291.10005487\n",
      " 291.100819   291.10139102 291.10181922 291.10213977 291.10237972\n",
      " 291.10255934]\n"
     ]
    }
   ],
   "source": [
    "numsteps = 30\n",
    "Tsteps = np.zeros(numsteps+1)\n",
    "Years = np.zeros(numsteps+1)\n",
    "Tsteps[0] = 288.0\n",
    "for n in range(numsteps):\n",
    "    Years[n+1] = n+1\n",
    "    Tsteps[n+1] = step_forward( Tsteps[n] )\n",
    "print(Tsteps)"
   ]
  },
  {
   "cell_type": "code",
   "execution_count": 11,
   "metadata": {
    "slideshow": {
     "slide_type": "slide"
    }
   },
   "outputs": [
    {
     "data": {
      "image/png": "[encoded data removed]",
      "text/plain": [
       "<Figure size 432x288 with 1 Axes>"
      ]
     },
     "metadata": {
      "needs_background": "light"
     },
     "output_type": "display_data"
    }
   ],
   "source": [
    "plt.plot( Years, Tsteps )\n",
    "plt.xlabel('Years')\n",
    "plt.ylabel('Global mean temperature (K)');"
   ]
  },
  {
   "cell_type": "markdown",
   "metadata": {
    "slideshow": {
     "slide_type": "fragment"
    }
   },
   "source": [
    "**Figure 2: Evolution of global temperature over the years**"
   ]
  },
  {
   "cell_type": "markdown",
   "metadata": {
    "slideshow": {
     "slide_type": "slide"
    }
   },
   "source": [
    "## Reference: \n",
    "\n",
    "[Brian E. J. Rose](http://www.atmos.albany.edu/facstaff/brose/index.html) (2020), University at Albany\n",
    "\n",
    "IPCC AR5 WG1 Glossary (2013), \"Energy Budget\""
   ]
  },
  {
   "cell_type": "markdown",
   "metadata": {
    "slideshow": {
     "slide_type": "slide"
    }
   },
   "source": [
    "![thank_you](./images/thank_you.png)"
   ]
  }
 ],
 "metadata": {
  "celltoolbar": "Diaporama",
  "kernelspec": {
   "display_name": "Python 3",
   "language": "python",
   "name": "python3"
  },
  "language_info": {
   "codemirror_mode": {
    "name": "ipython",
    "version": 3
   },
   "file_extension": ".py",
   "mimetype": "text/x-python",
   "name": "python",
   "nbconvert_exporter": "python",
   "pygments_lexer": "ipython3",
   "version": "3.6.13"
  }
 },
 "nbformat": 4,
 "nbformat_minor": 4
}
